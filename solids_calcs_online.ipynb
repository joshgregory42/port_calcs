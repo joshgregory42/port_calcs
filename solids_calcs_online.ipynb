{
  "nbformat": 4,
  "nbformat_minor": 0,
  "metadata": {
    "colab": {
      "provenance": [],
      "authorship_tag": "ABX9TyNZ2FpV738OJOGxWsAD7CIO",
      "include_colab_link": true
    },
    "kernelspec": {
      "name": "python3",
      "display_name": "Python 3"
    },
    "language_info": {
      "name": "python"
    }
  },
  "cells": [
    {
      "cell_type": "markdown",
      "metadata": {
        "id": "view-in-github",
        "colab_type": "text"
      },
      "source": [
        "<a href=\"https://colab.research.google.com/github/joshgregory42/port_calcs/blob/main/solids_calcs_online.ipynb\" target=\"_parent\"><img src=\"https://colab.research.google.com/assets/colab-badge.svg\" alt=\"Open In Colab\"/></a>"
      ]
    },
    {
      "cell_type": "code",
      "source": [
        "import numpy as np\n",
        "import matplotlib.pyplot as plt"
      ],
      "metadata": {
        "id": "jhSGtac7gtkg"
      },
      "execution_count": 2,
      "outputs": []
    },
    {
      "cell_type": "markdown",
      "source": [
        "# User Inputs\n",
        "\n",
        "Change the following variables to the desired values"
      ],
      "metadata": {
        "id": "dyoOwAknfO28"
      }
    },
    {
      "cell_type": "markdown",
      "source": [
        "## Diameters\n",
        "\n",
        "`d_mm` is the diameter in mm"
      ],
      "metadata": {
        "id": "69FaXxCQfcDy"
      }
    },
    {
      "cell_type": "code",
      "execution_count": 3,
      "metadata": {
        "id": "Ha_GxCfcfEab"
      },
      "outputs": [],
      "source": [
        "d_mm_outer = 3 # Edit this line\n",
        "d_mm_inner = 4 # Edit this line"
      ]
    },
    {
      "cell_type": "markdown",
      "source": [
        "## Length\n",
        "\n",
        "Length of the trocar in mm"
      ],
      "metadata": {
        "id": "JEkY6p81fgs2"
      }
    },
    {
      "cell_type": "code",
      "source": [
        "# Length of the trocar in mm\n",
        "L_mm = 100 # Edit this line"
      ],
      "metadata": {
        "id": "H9w8sYK3fHkb"
      },
      "execution_count": 4,
      "outputs": []
    },
    {
      "cell_type": "markdown",
      "source": [
        "## Applied force on end of trocar in N"
      ],
      "metadata": {
        "id": "LVuSPV4nfkU7"
      }
    },
    {
      "cell_type": "code",
      "source": [
        "P = 30 # Edit this line"
      ],
      "metadata": {
        "id": "-bsVyfPRfqkX"
      },
      "execution_count": 5,
      "outputs": []
    },
    {
      "cell_type": "markdown",
      "source": [
        "## Young's modulus/modulus of elasticity in MPa"
      ],
      "metadata": {
        "id": "6E3l8rXkfsqy"
      }
    },
    {
      "cell_type": "code",
      "source": [
        "E_mpa = 99 # Edit this line"
      ],
      "metadata": {
        "id": "j6lNRS4rfv_M"
      },
      "execution_count": 6,
      "outputs": []
    },
    {
      "cell_type": "markdown",
      "source": [
        "## Couple moment on end of trocar, N$\\cdot$m"
      ],
      "metadata": {
        "id": "eYtrINk_fzO2"
      }
    },
    {
      "cell_type": "code",
      "source": [
        "M_0 = 0.5 # Edit this line"
      ],
      "metadata": {
        "id": "RPOB4cKqf1k9"
      },
      "execution_count": 7,
      "outputs": []
    },
    {
      "cell_type": "markdown",
      "source": [
        "# Main code body\n",
        "\n",
        "Don't need to edit any of this"
      ],
      "metadata": {
        "id": "PX_QNVJcf5C1"
      }
    },
    {
      "cell_type": "code",
      "source": [
        "# Calculate the deflection and elastic curve for cantilevered beam due to a force P on the end (Hibbeler solids 10th ed., p. 815, first diagram from the top)\n",
        "def force_deflect(I, L, P, E, x):\n",
        "    \"\"\"\n",
        "    Calculate the deflection and elastic curve for a cantilevered beam due to a force P on the end.\n",
        "\n",
        "    Parameters:\n",
        "    I (float): Moment of inertia of the section.\n",
        "    L (float): Length of the beam.\n",
        "    P (float): Force applied on the end of the beam.\n",
        "    E (float): Modulus of elasticity of the material.\n",
        "    x (float): Distance from the fixed end.\n",
        "\n",
        "    Returns:\n",
        "    tuple: Maximum deflection angle, maximum deflection, deflection at distance x.\n",
        "    \"\"\"\n",
        "\n",
        "    theta_max = (- P * L**2) / (2*E*I)\n",
        "\n",
        "    v_max = (-P * L**3) / (3*E*I)\n",
        "\n",
        "    v = ( (-P*x**2) / (6*E*I) ) * (3*L - x)\n",
        "\n",
        "    return theta_max, v_max, v\n",
        "\n",
        "# Calculate the deflection and elastic curve for cantilevered beam due to couple moment M_0 on the end (Hibbeler solids 10th ed., p. 815, fourth diagram from the top)\n",
        "def moment_deflect(I, L, E, M_0, x):\n",
        "    \"\"\"\n",
        "    Calculate the deflection and elastic curve for a cantilevered beam due to a couple moment M_0 on the end.\n",
        "\n",
        "    Parameters:\n",
        "    I (float): Moment of inertia of the section.\n",
        "    L (float): Length of the beam.\n",
        "    E (float): Modulus of elasticity of the material.\n",
        "    M_0 (float): Couple moment on the end of the beam.\n",
        "    x (float): Distance from the fixed end.\n",
        "\n",
        "    Returns:\n",
        "    tuple: Maximum deflection angle, maximum deflection, deflection at distance x.\n",
        "    \"\"\"\n",
        "\n",
        "    theta_max = (M_0*L) / (E*I)\n",
        "\n",
        "    v_max = (M_0 * L**2) / (2*E*I)\n",
        "\n",
        "    v = ( M_0*x**2 ) / (2*E*I)\n",
        "\n",
        "    return theta_max, v_max, v\n",
        "\n",
        "def rad_to_degree(rad_meas):\n",
        "    deg_meas = rad_meas * (180 / np.pi)\n",
        "\n",
        "    return deg_meas\n",
        "\n",
        "d_m_outer = d_mm_outer / 1000\n",
        "d_m_inner = d_mm_inner / 1000\n",
        "\n",
        "I = np.pi*(d_m_outer**4 - d_m_inner**4) / 64 # I_x = I_y = I\n",
        "\n",
        "L = L_mm / 1000\n",
        "\n",
        "x = np.linspace(start=0, stop=L, num=10000) # Points for elastic curve\n",
        "\n",
        "E = E_mpa * 1000000\n",
        "\n",
        "force_stats = force_deflect(I, L, P, E, x)\n",
        "moment_stats = moment_deflect(I, L, E, M_0, x)\n",
        "\n",
        "decimal_round = 3 # Round to this"
      ],
      "metadata": {
        "id": "9Ykoi3enf4rp"
      },
      "execution_count": 8,
      "outputs": []
    },
    {
      "cell_type": "markdown",
      "source": [
        "# Outputs"
      ],
      "metadata": {
        "id": "FSLD5mdEgDTl"
      }
    },
    {
      "cell_type": "markdown",
      "source": [
        "## Calculations from force"
      ],
      "metadata": {
        "id": "eBlJL35igKn8"
      }
    },
    {
      "cell_type": "markdown",
      "source": [
        "Maximum deflection:"
      ],
      "metadata": {
        "id": "JL6T2yJkgPQx"
      }
    },
    {
      "cell_type": "code",
      "source": [
        "print(str(round(force_stats[1], decimal_round)) + ' m = ' + str(round(force_stats[1]*1000, decimal_round)) + ' mm')"
      ],
      "metadata": {
        "colab": {
          "base_uri": "https://localhost:8080/"
        },
        "id": "VNX05HmlgHcc",
        "outputId": "2d8f823e-451d-45a3-9bf7-b95fd32bb5b1"
      },
      "execution_count": 9,
      "outputs": [
        {
          "output_type": "stream",
          "name": "stdout",
          "text": [
            "11.759 m = 11758.634 mm\n"
          ]
        }
      ]
    },
    {
      "cell_type": "markdown",
      "source": [
        "Maximum angular deflection:"
      ],
      "metadata": {
        "id": "4hyexPILgS8R"
      }
    },
    {
      "cell_type": "code",
      "source": [
        "print(str(round(force_stats[0], decimal_round)) + ' rad. = ' + str(rad_to_degree(round(force_stats[0], decimal_round))) + ' deg.')"
      ],
      "metadata": {
        "colab": {
          "base_uri": "https://localhost:8080/"
        },
        "id": "NpKseKdmgUbl",
        "outputId": "df40ce5d-1efd-4581-bc01-af150083a3d6"
      },
      "execution_count": 10,
      "outputs": [
        {
          "output_type": "stream",
          "name": "stdout",
          "text": [
            "176.38 rad. = 10105.82959051746 deg.\n"
          ]
        }
      ]
    },
    {
      "cell_type": "markdown",
      "source": [
        "## Calculations from moment"
      ],
      "metadata": {
        "id": "RghWOQmGgXZG"
      }
    },
    {
      "cell_type": "markdown",
      "source": [
        "Maximum deflection:"
      ],
      "metadata": {
        "id": "_FFYddP6gZl2"
      }
    },
    {
      "cell_type": "code",
      "source": [
        "print(str(round(moment_stats[1], decimal_round)) + ' m = ' + str(round(moment_stats[1]*1000, decimal_round)) + ' mm')"
      ],
      "metadata": {
        "colab": {
          "base_uri": "https://localhost:8080/"
        },
        "id": "pe1ApSLygdUn",
        "outputId": "8839b217-d4f0-4198-a6e5-69a640d7b2e6"
      },
      "execution_count": 11,
      "outputs": [
        {
          "output_type": "stream",
          "name": "stdout",
          "text": [
            "-2.94 m = -2939.658 mm\n"
          ]
        }
      ]
    },
    {
      "cell_type": "markdown",
      "source": [
        "Maximum angular deflection:"
      ],
      "metadata": {
        "id": "YqxQXOdNgeU-"
      }
    },
    {
      "cell_type": "code",
      "source": [
        "print(str(round(moment_stats[0], decimal_round)) + ' rad. = ' + str(rad_to_degree(round(moment_stats[0], decimal_round))) + ' deg.')"
      ],
      "metadata": {
        "colab": {
          "base_uri": "https://localhost:8080/"
        },
        "id": "nK14LuHvgjbs",
        "outputId": "e53c8b76-083a-42bc-9d2c-21ddfc20d751"
      },
      "execution_count": 12,
      "outputs": [
        {
          "output_type": "stream",
          "name": "stdout",
          "text": [
            "-58.793 rad. = -3368.590764912649 deg.\n"
          ]
        }
      ]
    },
    {
      "cell_type": "markdown",
      "source": [
        "# Elastic curve plots"
      ],
      "metadata": {
        "id": "Zwjp3FCLgk0R"
      }
    },
    {
      "cell_type": "markdown",
      "source": [
        "## Elastic curve plot from force"
      ],
      "metadata": {
        "id": "N9Jyuj6PgnZY"
      }
    },
    {
      "cell_type": "code",
      "source": [
        "plt.plot(x*1000, force_stats[2]*1000, 'b')\n",
        "plt.xlabel('Position (mm)')\n",
        "plt.ylabel('Deflection (mm)')\n",
        "plt.title('Elastic Curve, Force')\n",
        "plt.grid(True)\n",
        "plt.show()"
      ],
      "metadata": {
        "colab": {
          "base_uri": "https://localhost:8080/",
          "height": 472
        },
        "id": "GdsUUdnwgreD",
        "outputId": "3fa3cc3e-59cd-445b-b1bd-7df75fd30d94"
      },
      "execution_count": 13,
      "outputs": [
        {
          "output_type": "display_data",
          "data": {
            "text/plain": [
              "<Figure size 640x480 with 1 Axes>"
            ],
            "image/png": "[encoded data removed]"
          },
          "metadata": {}
        }
      ]
    },
    {
      "cell_type": "markdown",
      "source": [
        "## Elastic curve plot from moment"
      ],
      "metadata": {
        "id": "yCs-mlO5gxZd"
      }
    },
    {
      "cell_type": "code",
      "source": [
        "plt.plot(x*1000, moment_stats[2]*1000, 'r')\n",
        "plt.xlabel('Position (mm)')\n",
        "plt.ylabel('Deflection (mm)')\n",
        "plt.title('Elastic Curve, Moment')\n",
        "plt.grid(True)\n",
        "plt.show()"
      ],
      "metadata": {
        "colab": {
          "base_uri": "https://localhost:8080/",
          "height": 472
        },
        "id": "r3I7eSCbgzlh",
        "outputId": "221a0695-acfd-44d2-db2c-e8fb3f321a66"
      },
      "execution_count": 14,
      "outputs": [
        {
          "output_type": "display_data",
          "data": {
            "text/plain": [
              "<Figure size 640x480 with 1 Axes>"
            ],
            "image/png": "[encoded data removed]"
          },
          "metadata": {}
        }
      ]
    }
  ]
}